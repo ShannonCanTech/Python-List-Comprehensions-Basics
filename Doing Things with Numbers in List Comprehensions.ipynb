{
 "cells": [
  {
   "cell_type": "code",
   "execution_count": 1,
   "metadata": {},
   "outputs": [
    {
     "data": {
      "text/plain": [
       "[1, 2, 3, 4, 5, 6, 7, 8, 9, 10]"
      ]
     },
     "execution_count": 1,
     "metadata": {},
     "output_type": "execute_result"
    }
   ],
   "source": [
    "# Print numbers 1 through 10\n",
    "\n",
    "[num for num in range(1,11)]"
   ]
  },
  {
   "cell_type": "code",
   "execution_count": 2,
   "metadata": {},
   "outputs": [
    {
     "data": {
      "text/plain": [
       "[0, 2, 4, 6, 8, 10]"
      ]
     },
     "execution_count": 2,
     "metadata": {},
     "output_type": "execute_result"
    }
   ],
   "source": [
    "# Print only even numbers\n",
    "\n",
    "[even_num for even_num in range(0,11,2)]"
   ]
  },
  {
   "cell_type": "code",
   "execution_count": 5,
   "metadata": {},
   "outputs": [
    {
     "data": {
      "text/plain": [
       "[1, 3, 5, 7, 9]"
      ]
     },
     "execution_count": 5,
     "metadata": {},
     "output_type": "execute_result"
    }
   ],
   "source": [
    "# Print only odd numbers\n",
    "\n",
    "[odd_num for odd_num in range (0,11) if odd_num % 2 != 0]"
   ]
  },
  {
   "cell_type": "code",
   "execution_count": 6,
   "metadata": {},
   "outputs": [
    {
     "data": {
      "text/plain": [
       "[[1], [2], [3], [4], [5], [6], [7], [8], [9], [10]]"
      ]
     },
     "execution_count": 6,
     "metadata": {},
     "output_type": "execute_result"
    }
   ],
   "source": [
    "# List in list\n",
    "\n",
    "[[num] for num in range(1,11)]"
   ]
  },
  {
   "cell_type": "code",
   "execution_count": 7,
   "metadata": {},
   "outputs": [
    {
     "data": {
      "text/plain": [
       "[[2], [3], [4], [5], [6], [7], [8], [9], [10], [11]]"
      ]
     },
     "execution_count": 7,
     "metadata": {},
     "output_type": "execute_result"
    }
   ],
   "source": [
    "# Doing math with a list in a list\n",
    "# Add 1 to to each value between 1 through 10\n",
    "\n",
    "[[num + 1] for num in range(1,11)]"
   ]
  },
  {
   "cell_type": "code",
   "execution_count": 9,
   "metadata": {},
   "outputs": [
    {
     "data": {
      "text/plain": [
       "[[1, 2, 2],\n",
       " [2, 3, 4],\n",
       " [3, 4, 6],\n",
       " [4, 5, 8],\n",
       " [5, 6, 10],\n",
       " [6, 7, 12],\n",
       " [7, 8, 14],\n",
       " [8, 9, 16],\n",
       " [9, 10, 18],\n",
       " [10, 11, 20]]"
      ]
     },
     "execution_count": 9,
     "metadata": {},
     "output_type": "execute_result"
    }
   ],
   "source": [
    "# Adding more objects to a list in a list\n",
    "# Prints the initial number between 1 and 10\n",
    "# Add the initial number by 1\n",
    "# Multiplies he initial by 2\n",
    "\n",
    "[[num, num + 1, num * 2] for num in range(1,11)]"
   ]
  },
  {
   "cell_type": "code",
   "execution_count": 15,
   "metadata": {},
   "outputs": [
    {
     "data": {
      "text/plain": [
       "[[0, 'This number divided by 5 is: 0'],\n",
       " [5, 'This number divided by 5 is: 1'],\n",
       " [10, 'This number divided by 5 is: 2'],\n",
       " [15, 'This number divided by 5 is: 3'],\n",
       " [20, 'This number divided by 5 is: 4'],\n",
       " [25, 'This number divided by 5 is: 5'],\n",
       " [30, 'This number divided by 5 is: 6'],\n",
       " [35, 'This number divided by 5 is: 7'],\n",
       " [40, 'This number divided by 5 is: 8'],\n",
       " [45, 'This number divided by 5 is: 9'],\n",
       " [50, 'This number divided by 5 is: 10']]"
      ]
     },
     "execution_count": 15,
     "metadata": {},
     "output_type": "execute_result"
    }
   ],
   "source": [
    "# Numbers up to 51 that are divisible by 5\n",
    "# Formatting a string and printing the result of each number divided by 5\n",
    "# Stores result and number into a list within a list\n",
    "\n",
    "[[num, 'This number divided by 5 is: {result}'.format(result = int(num / 5))] for num in range(51) if num % 5 == 0]"
   ]
  },
  {
   "cell_type": "code",
   "execution_count": 37,
   "metadata": {},
   "outputs": [
    {
     "name": "stdout",
     "output_type": "stream",
     "text": [
      "[1, 2, 3, 4, 5, 6, 7, 8, 9, 10, 11, 12, 13, 14, 15, 16, 17, 18, 19, 20, 21, 22, 23, 24, 25, 26, 27, 28, 29, 30, 31, 32, 33, 34, 35, 36, 37, 38, 39, 40, 41, 42, 43, 44, 45, 46, 47, 48, 49, 50, 51]\n"
     ]
    }
   ],
   "source": [
    "# Grabbing columns in list within lists\n",
    "# Column 2 within our list_of_lists grabs every value of each list at index 1\n",
    "\n",
    "list_of_lists = [[num, num + 1, num + 2] for num in range(51)]\n",
    "\n",
    "column2 = [row[1] for row in list_of_lists]\n",
    "print(column2)"
   ]
  },
  {
   "cell_type": "code",
   "execution_count": 36,
   "metadata": {},
   "outputs": [
    {
     "name": "stdout",
     "output_type": "stream",
     "text": [
      "[2, 3, 4, 5, 6, 7, 8, 9, 10, 11, 12, 13, 14, 15, 16, 17, 18, 19, 20, 21, 22, 23, 24, 25, 26, 27, 28, 29, 30, 31, 32, 33, 34, 35, 36, 37, 38, 39, 40, 41, 42, 43, 44, 45, 46, 47, 48, 49, 50, 51, 52]\n"
     ]
    }
   ],
   "source": [
    "# Creates a list within a list\n",
    "# Up to 51\n",
    "# Each list contains 3 integer values\n",
    "# Grabs last value of each each list and stores it within another list\n",
    "\n",
    "new_list = [[number_value, number_value + 1, number_value + 2] for number_value in range(51)]\n",
    "\n",
    "last_column = [row[2] for row in new_list]\n",
    "print(last_column)"
   ]
  },
  {
   "cell_type": "code",
   "execution_count": 49,
   "metadata": {},
   "outputs": [
    {
     "name": "stdout",
     "output_type": "stream",
     "text": [
      "List:\n",
      " [[1, 2, 3], [2, 3, 4], [3, 4, 5]]\n",
      "Diagnol Result:\n",
      " [1, 3, 5]\n"
     ]
    }
   ],
   "source": [
    "# Going diagnol\n",
    "\n",
    "this_list = [[num, num + 1, num + 2] for num in range(1,4)]\n",
    "print(\"List:\\n\",this_list)\n",
    "\n",
    "diagnol_result = [this_list[num][num] for num in [0,1,2]]\n",
    "print(\"Diagnol Result:\\n\",diagnol_result)"
   ]
  },
  {
   "cell_type": "code",
   "execution_count": null,
   "metadata": {},
   "outputs": [],
   "source": []
  }
 ],
 "metadata": {
  "kernelspec": {
   "display_name": "Python 3",
   "language": "python",
   "name": "python3"
  },
  "language_info": {
   "codemirror_mode": {
    "name": "ipython",
    "version": 3
   },
   "file_extension": ".py",
   "mimetype": "text/x-python",
   "name": "python",
   "nbconvert_exporter": "python",
   "pygments_lexer": "ipython3",
   "version": "3.7.0"
  }
 },
 "nbformat": 4,
 "nbformat_minor": 2
}
