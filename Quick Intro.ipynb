{
 "cells": [
  {
   "cell_type": "markdown",
   "metadata": {
    "collapsed": true
   },
   "source": [
    "# List Comprehensions in Python\n",
    "\n",
    "Set notations; alternative way for building lists.\n",
    "Runs an expression on each item from left to right. The expression includes a looping construct. They can be as complex as you want them to be. Other operations with list comprehensions includes the ability to iterate over any iterable object. They can be used to collect multiple calues wrapped in nested collections, such as range().\n",
    "\n",
    "List comprehensions are powerful, optional, and useful; often providing substantial prococessing speed. They can be used to create things other than lists; wrapped in parentheses, you can create generators to produce results quickly. You can also create sets and dictionaries.\n",
    "\n",
    "Lists, sets, dictionaries, and generators can all be built usinh comprehensions.\n",
    "\n",
    "List comprehensions require fewer lines of code and can run faster. They are written insquare brackets to construct a new list."
   ]
  },
  {
   "cell_type": "code",
   "execution_count": null,
   "metadata": {},
   "outputs": [],
   "source": []
  }
 ],
 "metadata": {
  "kernelspec": {
   "display_name": "Python 2",
   "language": "python",
   "name": "python2"
  },
  "language_info": {
   "codemirror_mode": {
    "name": "ipython",
    "version": 2
   },
   "file_extension": ".py",
   "mimetype": "text/x-python",
   "name": "python",
   "nbconvert_exporter": "python",
   "pygments_lexer": "ipython2",
   "version": "2.7.6"
  }
 },
 "nbformat": 4,
 "nbformat_minor": 0
}
